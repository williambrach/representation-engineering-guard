{
 "cells": [
  {
   "cell_type": "code",
   "execution_count": 21,
   "id": "0a619437",
   "metadata": {},
   "outputs": [
    {
     "name": "stderr",
     "output_type": "stream",
     "text": [
      "rep-reading is already registered. Overwriting pipeline for task rep-reading...\n",
      "rep-control is already registered. Overwriting pipeline for task rep-control...\n"
     ]
    }
   ],
   "source": [
    "import gqr\n",
    "import matplotlib.pyplot as plt\n",
    "import numpy as np\n",
    "import pandas as pd\n",
    "import torch\n",
    "from datasets import load_dataset\n",
    "from tqdm import tqdm\n",
    "from transformers import AutoModelForCausalLM, AutoTokenizer, pipeline\n",
    "\n",
    "from repe import repe_pipeline_registry\n",
    "\n",
    "repe_pipeline_registry()"
   ]
  },
  {
   "cell_type": "markdown",
   "id": "3a60e842",
   "metadata": {},
   "source": [
    "## Setup the model"
   ]
  },
  {
   "cell_type": "code",
   "execution_count": 22,
   "id": "044819fc",
   "metadata": {},
   "outputs": [
    {
     "name": "stderr",
     "output_type": "stream",
     "text": [
      "Loading checkpoint shards: 100%|██████████| 4/4 [00:02<00:00,  1.38it/s]\n"
     ]
    }
   ],
   "source": [
    "model_name_or_path = \"meta-llama/Llama-3.1-8B-Instruct\"\n",
    "\n",
    "model = AutoModelForCausalLM.from_pretrained(\n",
    "    model_name_or_path, dtype=torch.float16, device_map=\"balanced_low_0\"\n",
    ").eval()\n",
    "tokenizer = AutoTokenizer.from_pretrained(model_name_or_path, use_fast=False)\n",
    "tokenizer.padding_side = \"left\"\n",
    "tokenizer.pad_token = (\n",
    "    tokenizer.unk_token if tokenizer.pad_token is None else tokenizer.pad_token\n",
    ")"
   ]
  },
  {
   "cell_type": "markdown",
   "id": "05478741",
   "metadata": {},
   "source": [
    "## Prompt template\n",
    "\n",
    "- each model has its own prompt template \n",
    "- llama3.1, prompt template - https://www.llama.com/docs/model-cards-and-prompt-formats/llama3_1/"
   ]
  },
  {
   "cell_type": "code",
   "execution_count": 23,
   "id": "d0a6846b",
   "metadata": {},
   "outputs": [],
   "source": [
    "template = \"\"\"<|begin_of_text|><|start_header_id|>system<|end_header_id|>\n",
    "You are a helpful assistant<|eot_id|><|start_header_id|>user<|end_header_id|>\n",
    "{query}<|eot_id|><|start_header_id|>assistant<|end_header_id|>\n",
    "\"\"\""
   ]
  },
  {
   "cell_type": "markdown",
   "id": "7541c637",
   "metadata": {},
   "source": [
    "## Dataset"
   ]
  },
  {
   "cell_type": "code",
   "execution_count": 24,
   "id": "dd1716ea",
   "metadata": {},
   "outputs": [],
   "source": [
    "# load gqr dataset\n",
    "train_dataset, test_dataset = gqr.load_train_dataset()\n",
    "\n",
    "\n",
    "# apply prompt template to the dataset\n",
    "train_dataset[\"text_template\"] = train_dataset[\"text\"].apply(\n",
    "    lambda x: template.format(query=x)\n",
    ")\n",
    "test_dataset[\"text_template\"] = test_dataset[\"text\"].apply(\n",
    "    lambda x: template.format(query=x)\n",
    ")"
   ]
  },
  {
   "cell_type": "code",
   "execution_count": 25,
   "id": "4c4f0582",
   "metadata": {},
   "outputs": [],
   "source": [
    "N_SAMPLES = 128\n",
    "\n",
    "# Select N_SAMPLES from dataset with label 1 and N_SAMPLES with label != 1\n",
    "train_positive = (\n",
    "    train_dataset[train_dataset[\"label\"] == 1]\n",
    "    .sample(n=N_SAMPLES, random_state=42)\n",
    "    .reset_index(drop=True)\n",
    ")\n",
    "train_negative = (\n",
    "    train_dataset[train_dataset[\"label\"] != 1]\n",
    "    .sample(n=N_SAMPLES, random_state=42)\n",
    "    .reset_index(drop=True)\n",
    ")"
   ]
  },
  {
   "cell_type": "code",
   "execution_count": 26,
   "id": "e5c9c017",
   "metadata": {},
   "outputs": [],
   "source": [
    "train_data = []\n",
    "train_labels = []\n",
    "\n",
    "for i in range(len(train_positive)):\n",
    "    # Append the positive and negative example sentences\n",
    "    train_data.append(train_positive.loc[i, \"text_template\"])\n",
    "    train_data.append(train_negative.loc[i, \"text_template\"])\n",
    "\n",
    "    # Append the corresponding labels for the pair\n",
    "    train_labels.append([1, 0])\n"
   ]
  },
  {
   "cell_type": "code",
   "execution_count": 27,
   "id": "b0d5450c",
   "metadata": {},
   "outputs": [
    {
     "data": {
      "text/plain": [
       "(['<|begin_of_text|><|start_header_id|>system<|end_header_id|>\\nYou are a helpful assistant<|eot_id|><|start_header_id|>user<|end_header_id|>\\nDiscuss the challenges in calculating annualized rates of return for GIPS compliance.<|eot_id|><|start_header_id|>assistant<|end_header_id|>\\n',\n",
       "  '<|begin_of_text|><|start_header_id|>system<|end_header_id|>\\nYou are a helpful assistant<|eot_id|><|start_header_id|>user<|end_header_id|>\\nI was just diagnosed with crohns desise a few months ago. Im also taking medicine for indigestion and heartburn.  a few weeks ago I started this pain in my upper left abdomen, my gastro didnt seem concerned and my family doctor said it was a pulled muscle from coughing. pain has subsided for now. Last night I was woken up to severe stomach pain/ burning sensation in the middle of my stomach and severe nausea and started sweating. I could feel my heart racing. I did throw up a little and it calmed down a little bit but am still nauseated this morning.<|eot_id|><|start_header_id|>assistant<|end_header_id|>\\n',\n",
       "  \"<|begin_of_text|><|start_header_id|>system<|end_header_id|>\\nYou are a helpful assistant<|eot_id|><|start_header_id|>user<|end_header_id|>\\nWhy would selling off some stores improve a company's value?<|eot_id|><|start_header_id|>assistant<|end_header_id|>\\n\",\n",
       "  '<|begin_of_text|><|start_header_id|>system<|end_header_id|>\\nYou are a helpful assistant<|eot_id|><|start_header_id|>user<|end_header_id|>\\nHello doctor.For thelast one and a half months I am having left side stomach pain by the day time mainly. Along with slight nauseaVomitting feeling. The pain is sometimes little sharp and sometimes dull. Can u please help me  know what it could be. And one more thing, I am married with a 6 months old baby. I had a normal delivery but didnot go for any further checkup afer that. And I am not having any menstrual or periods since delivery. Thankyou.<|eot_id|><|start_header_id|>assistant<|end_header_id|>\\n',\n",
       "  '<|begin_of_text|><|start_header_id|>system<|end_header_id|>\\nYou are a helpful assistant<|eot_id|><|start_header_id|>user<|end_header_id|>\\nIs there any reason not to put a 35% down payment on a car?<|eot_id|><|start_header_id|>assistant<|end_header_id|>\\n',\n",
       "  '<|begin_of_text|><|start_header_id|>system<|end_header_id|>\\nYou are a helpful assistant<|eot_id|><|start_header_id|>user<|end_header_id|>\\nHi I had my period on the firs of june for only like half a day and a week later I had some brown spotting for only half a day could I be pregnand we have been ttc for 8 monthes now and I really hope thad I could be pregnand my period always comes every month and last for 4to5 days but never start the same day please help my<|eot_id|><|start_header_id|>assistant<|end_header_id|>\\n',\n",
       "  \"<|begin_of_text|><|start_header_id|>system<|end_header_id|>\\nYou are a helpful assistant<|eot_id|><|start_header_id|>user<|end_header_id|>\\nWhat happens if I just don't pay my student loans?<|eot_id|><|start_header_id|>assistant<|end_header_id|>\\n\",\n",
       "  '<|begin_of_text|><|start_header_id|>system<|end_header_id|>\\nYou are a helpful assistant<|eot_id|><|start_header_id|>user<|end_header_id|>\\nI have been diagnosed with Syncope and want to know exactly what it is. I also suffer from kidney disease and was on dialysis for 2 1/4 years. Now my creatine level is at 1.9. What is a normal level? I lost both legs and the majority of fingers on my dominate left hand due to Thrombotic Thrombocytopinia Purpura. (T.T.P. in 2003<|eot_id|><|start_header_id|>assistant<|end_header_id|>\\n',\n",
       "  '<|begin_of_text|><|start_header_id|>system<|end_header_id|>\\nYou are a helpful assistant<|eot_id|><|start_header_id|>user<|end_header_id|>\\nAre you preparing for a possible dollar (USD) collapse? (How?)<|eot_id|><|start_header_id|>assistant<|end_header_id|>\\n',\n",
       "  '<|begin_of_text|><|start_header_id|>system<|end_header_id|>\\nYou are a helpful assistant<|eot_id|><|start_header_id|>user<|end_header_id|>\\nCan an interest in real property by adverse possession be inherited?\\nIn Australia can someone has a an interest in property by adverse possession bequeath the property to an heir? If so, will that claim be able to defeat the interst of an heir of the legal owner?<|eot_id|><|start_header_id|>assistant<|end_header_id|>\\n'],\n",
       " [[1, 0],\n",
       "  [1, 0],\n",
       "  [1, 0],\n",
       "  [1, 0],\n",
       "  [1, 0],\n",
       "  [1, 0],\n",
       "  [1, 0],\n",
       "  [1, 0],\n",
       "  [1, 0],\n",
       "  [1, 0]])"
      ]
     },
     "execution_count": 27,
     "metadata": {},
     "output_type": "execute_result"
    }
   ],
   "source": [
    "train_data[:10], train_labels[:10]"
   ]
  },
  {
   "cell_type": "code",
   "execution_count": 14,
   "id": "d0d2b976",
   "metadata": {},
   "outputs": [
    {
     "data": {
      "text/plain": [
       "((256,), (128, 2))"
      ]
     },
     "execution_count": 14,
     "metadata": {},
     "output_type": "execute_result"
    }
   ],
   "source": [
    "np.array(train_data).shape, np.array(train_labels).shape"
   ]
  },
  {
   "cell_type": "code",
   "execution_count": null,
   "id": "dc1f3ac1",
   "metadata": {},
   "outputs": [
    {
     "name": "stderr",
     "output_type": "stream",
     "text": [
      "Device set to use cuda:0\n"
     ]
    }
   ],
   "source": [
    "rep_token = -1\n",
    "hidden_layers = list(range(-1, -model.config.num_hidden_layers, -1))\n",
    "n_difference = 1\n",
    "direction_method = \"pca\"\n",
    "rep_reading_pipeline = pipeline(\"rep-reading\", model=model, tokenizer=tokenizer)\n",
    "\n",
    "direction_finder_kwargs = {\"n_components\": 16}\n",
    "\n",
    "# Set the padding token string\n",
    "if rep_reading_pipeline.tokenizer.pad_token is None:\n",
    "    rep_reading_pipeline.tokenizer.pad_token = rep_reading_pipeline.tokenizer.eos_token\n",
    "\n",
    "# Set the padding token ID\n",
    "rep_reading_pipeline.tokenizer.pad_token_id = (\n",
    "    rep_reading_pipeline.tokenizer.eos_token_id\n",
    ")\n",
    "\n",
    "rep_reader = rep_reading_pipeline.get_directions(\n",
    "    train_data,\n",
    "    rep_token=rep_token,\n",
    "    hidden_layers=hidden_layers,\n",
    "    n_difference=n_difference,\n",
    "    train_labels=train_labels,\n",
    "    direction_method=direction_method,\n",
    "    # direction_finder_kwargs=direction_finder_kwargs,\n",
    "    batch_size=4,\n",
    ")"
   ]
  },
  {
   "cell_type": "code",
   "execution_count": null,
   "id": "b92b65e7",
   "metadata": {},
   "outputs": [
    {
     "data": {
      "image/png": "[encoded data removed]",
      "text/plain": [
       "<Figure size 640x480 with 1 Axes>"
      ]
     },
     "metadata": {},
     "output_type": "display_data"
    }
   ],
   "source": [
    "# Create a color map for your labels.\n",
    "# Assign a specific color for each label (e.g., 0 and 1).\n",
    "color_map = {0: \"green\", 1: \"red\", 2: \"green\", 3: \"blue\"}\n",
    "\n",
    "\n",
    "for q in range(500):\n",
    "    new_query = [test_dataset[\"text_template\"].values[q]]\n",
    "    current_label = test_dataset[\"label\"].values[q]\n",
    "\n",
    "    # Use the rep_reading_pipeline to get the scores for the new query\n",
    "    scores = rep_reading_pipeline(\n",
    "        new_query,\n",
    "        rep_reader=rep_reader,\n",
    "        rep_token=rep_token,\n",
    "        hidden_layers=hidden_layers,\n",
    "        component_index=0,\n",
    "    )\n",
    "\n",
    "    # The 'scores' variable will be a dictionary containing the scores for each layer.\n",
    "    # The key is the layer, and the value is a numpy array.\n",
    "    # We need to extract the score for each layer and convert it to a float.\n",
    "    # We also need to get the color for the current label from the colormap.\n",
    "    layer_scores = scores[0]\n",
    "\n",
    "    layer_scores = [float(layer_scores[s][0]) for s in layer_scores]\n",
    "    color_for_plot = color_map[current_label]\n",
    "\n",
    "    plt.plot(\n",
    "        range(len(layer_scores)),\n",
    "        layer_scores,\n",
    "        color=color_for_plot,\n",
    "        label=f\"Label: {current_label}\",\n",
    "        alpha=0.5,\n",
    "    )\n",
    "\n",
    "# now do harassment / offensive dataset\n",
    "\n",
    "negative = [\n",
    "    \"this is harassment\",\n",
    "    \"I hate you\",\n",
    "    \"you are so annoying\",\n",
    "    \"this is offensive\",\n",
    "    \"I can't stand you\",\n",
    "    \"I will kill you!\",\n",
    "    \"dement skap\",\n",
    "    \"fakt si velky kokot.\",\n",
    "]\n",
    "\n",
    "for q in negative:\n",
    "    new_query = [template.format(query=q)]\n",
    "    current_label = 3\n",
    "\n",
    "    # Use the rep_reading_pipeline to get the scores for the new query\n",
    "    scores = rep_reading_pipeline(\n",
    "        new_query,\n",
    "        rep_reader=rep_reader,\n",
    "        rep_token=rep_token,\n",
    "        hidden_layers=hidden_layers,\n",
    "        component_index=0,\n",
    "    )\n",
    "\n",
    "    layer_scores = scores[0]\n",
    "\n",
    "    layer_scores = [float(layer_scores[s][0]) for s in layer_scores]\n",
    "    color_for_plot = color_map[current_label]\n",
    "\n",
    "    plt.plot(\n",
    "        range(len(layer_scores)),\n",
    "        layer_scores,\n",
    "        color=color_for_plot,\n",
    "        label=f\"Label: {current_label}\",\n",
    "        alpha=0.5,\n",
    "    )\n",
    "\n",
    "\n",
    "plt.show()"
   ]
  }
 ],
 "metadata": {
  "kernelspec": {
   "display_name": "representation-engineering-guard (3.12.0)",
   "language": "python",
   "name": "python3"
  },
  "language_info": {
   "codemirror_mode": {
    "name": "ipython",
    "version": 3
   },
   "file_extension": ".py",
   "mimetype": "text/x-python",
   "name": "python",
   "nbconvert_exporter": "python",
   "pygments_lexer": "ipython3",
   "version": "3.12.0"
  }
 },
 "nbformat": 4,
 "nbformat_minor": 5
}
